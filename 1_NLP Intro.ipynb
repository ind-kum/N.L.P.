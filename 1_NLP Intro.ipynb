{
 "cells": [
  {
   "cell_type": "markdown",
   "metadata": {},
   "source": [
    "# What is NLP?\n",
    "\n",
    "NLP is a part of Artificial Intelligence, developed for the machine to understand human language. The ultimate goal of NLP is to read, understand and make valuable conclusion of human language. It is a very tough job to do as human language has a lot of variation in terms of language, pronunciation etc. Although, in recent times there has been a major breakthrough in the field of NLP. \n",
    "\n",
    "Siri and Alexa are one such example of uses of NLP.\n",
    "\n",
    "\n",
    "We will use NLP for text analytics.\n",
    "\n",
    "\n",
    "There many libraries available for NLP in python. we will focus on NLTK in the later part :\n",
    "\n",
    "* Natural Languange Tool Kit (NLTK)\n",
    "* Spacy"
   ]
  },
  {
   "cell_type": "markdown",
   "metadata": {},
   "source": [
    "## Five main Component of Natural Language processing are:\n",
    "\n",
    "**Lexical Analysis** − It involves identifying and analyzing the structure of words. Lexicon of a language means the collection of words and phrases in a language. Lexical analysis is dividing the whole chunk of txt into paragraphs, sentences, and words.\n",
    "\n",
    "**Syntactic Analysis (Parsing)** − It involves analysis of words in the sentence for grammar and arranging words in a manner that shows the relationship among the words. The sentence such as “The movie went to see a family” is rejected by English syntactic analyzer.\n",
    "\n",
    "**Semantic Analysis** − It draws the exact meaning or the dictionary meaning from the text. The text is checked for meaningfulness. It is done by mapping syntactic structures and objects in the task domain. The semantic analyzer disregards sentence such as “Hot Ice Cream”.\n",
    "\n",
    "**Discourse Integration** − The meaning of any sentence depends upon the meaning of the sentence just before it. In addition, it also brings about the meaning of immediately succeeding sentence.\n",
    "\n",
    "**Pragmatic Analysis** − During this, what was said is re-interpreted on what it actually meant. It involves deriving those aspects of language which require real world knowledge"
   ]
  },
  {
   "cell_type": "markdown",
   "metadata": {},
   "source": [
    "## Advantages of NLP\n",
    "- Users can ask questions about any subject and get a direct response within seconds.\n",
    "- NLP system provides answers to the questions in natural language\n",
    "- NLP system offers exact answers to the questions, no unnecessary or unwanted information\n",
    "- The accuracy of the answers increases with the amount of relevant information provided in the question.\n",
    "- NLP process helps computers communicate with humans in their language and scales other language-related tasks\n",
    "- Allows you to perform more language-based data compares to a human being without fatigue and in an unbiased and consistent way.\n",
    "- Structuring a highly unstructured data source\n",
    "\n",
    "## Disadvantages of NLP\n",
    "- Complex Query Language- the system may not be able to provide the correct answer it the question that is poorly worded or ambiguous.\n",
    "- The system is built for a single and specific task only; it is unable to adapt to new domains and problems because of limited functions.\n",
    "- NLP system doesn't have a user interface which lacks features that allow users to further interact with the system"
   ]
  }
 ],
 "metadata": {
  "kernelspec": {
   "display_name": "Python 3",
   "language": "python",
   "name": "python3"
  },
  "language_info": {
   "codemirror_mode": {
    "name": "ipython",
    "version": 3
   },
   "file_extension": ".py",
   "mimetype": "text/x-python",
   "name": "python",
   "nbconvert_exporter": "python",
   "pygments_lexer": "ipython3",
   "version": "3.7.7"
  }
 },
 "nbformat": 4,
 "nbformat_minor": 2
}
