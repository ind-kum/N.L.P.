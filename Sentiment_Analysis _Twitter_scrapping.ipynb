{
 "cells": [
  {
   "cell_type": "code",
   "execution_count": 1,
   "metadata": {},
   "outputs": [],
   "source": [
    "import string\n",
    "from collections import Counter\n",
    "\n",
    "import matplotlib.pyplot as plt"
   ]
  },
  {
   "cell_type": "code",
   "execution_count": 2,
   "metadata": {},
   "outputs": [],
   "source": [
    "\n",
    "def get_tweets():\n",
    "    import GetOldTweets3 as got   # library used to scrape data from twitter without any other tools\n",
    "    tweetCriteria = got.manager.TweetCriteria().setQuerySearch('#KaranJohar') \\\n",
    "        .setSince(\"2020-06-20\") \\\n",
    "        .setUntil(\"2020-06-30\") \\\n",
    "        .setMaxTweets(100)\n",
    "    # Creation of list that contains all tweets\n",
    "    tweets = got.manager.TweetManager.getTweets(tweetCriteria)\n",
    "    # Creating list of chosen tweet data\n",
    "    text_tweets = [[tweet.text] for tweet in tweets]\n",
    "    return text_tweets"
   ]
  },
  {
   "cell_type": "code",
   "execution_count": 3,
   "metadata": {},
   "outputs": [],
   "source": [
    "\n",
    "# reading text file\n",
    "text = \"\"\n",
    "text_tweets = get_tweets()\n",
    "\n",
    "length = len(text_tweets)\n",
    "\n",
    "for i in range(0, length):\n",
    "    text = text_tweets[i][0] + \" \" + text\n",
    "\n",
    "# converting to lowercase\n",
    "lower_case = text.lower()\n",
    "\n",
    "# Removing punctuations\n",
    "cleaned_text = lower_case.translate(str.maketrans('', '', string.punctuation))\n",
    "\n",
    "# splitting text into words\n",
    "tokenized_words = cleaned_text.split()"
   ]
  },
  {
   "cell_type": "code",
   "execution_count": 4,
   "metadata": {},
   "outputs": [
    {
     "data": {
      "text/plain": [
       "[[\"I don't know if Sonam and Karan stand anywhere in front of SSR. They are just Amir Zaahil. And, Sonam has another definition of hot, u can see her husband's pic. Sushant's Fudge is btr. #SushantInOurHeartsForever #CBIEnquiryForSSR #SonamKapoor #KaranJohar https://www.facebook.com/100009287050330/posts/2707320716254137/?extid=A85FpdbCaDQu47os&amp;d=t&amp;vh=i\"],\n",
       " ['Have you shared your #ArtOfMotorcycling yet? Don’t worry, you can still share it till 10th September. The prize? A chance to have your art featured on official #RoyalEnfield merchandise or even win an internship with their design team. Visit https://bit.ly/3lzVFmc #REApparel'],\n",
       " [\"@Simi_Garewal i admire your point of view against current indian government and trump but i also wonder why you never tweet about how #Bollywood's top production houses treat certain actors and actresses.. you too scarred to say anything against #KaranJohar and #YRF??\"],\n",
       " [\"I'm with you... And whole world is with you.. To boycott #karanjohar the movie mafiya...\"],\n",
       " ['#justiceforSushanthSinghRajput #CBIEnquiryForSSR boycott #aliaabhatt #MaheshBhatt #SalmanKhan #KaranJohar '],\n",
       " ['Only way to let these talent less #starkids show their place is to boycott their movie releases on Disney +. #nepotisminbollywood #AliaBhatt #SonakshiSinha #KaranJohar #Karanjohargang'],\n",
       " ['samjgye kon h ye aap log #AliaBhatt #KaranJohar ka mixtr karan+alia= karliya johbhat #RanbirKapoor ko lga ki uski gf ladki h use kya pta ki uski gf to #KaranJohar ka mixtr h #alia tu to sach m satr kid h reeee..... '],\n",
       " ['#SushantSingRajput neither took help from #KaranJohar nor got entry in #Bollywood via #SalmanKhan RozgarYojana, &amp; #SushantSingh was doing really well compared to d kids of #BollywoodCelebs This created a hatered among #BollywoodMAFIA and result is. #CBIEnquirySushantSinghRajput'],\n",
       " ['Government also sud BAN the entry of Criminals like #SalmanKhan #bhatts #KaranJohar @NGEMovies @yrf on OTT @NetflixIndia @DisneyPlusHS @PrimeVideoIN @ZEE5Premium &amp; especially in Movie Theatres #Bollywood #SushantSingRajput #tiktokban #justiceforSushanthSinghRajput '],\n",
       " ['Please request #KaranJohar to cast him on his upcoming flop family drama.'],\n",
       " ['अरे इन्हे #KaranJohar की किसी फिल्म में रोल दिलवाओ भाई... बाप रे बाप... आजकल लोग पब्लिसिटी और काम पाने के लिए कैसे अपना ईमान बेच देते हैं इसका जीता जागता एक्साम्पल हैं ये मैडमजी|'],\n",
       " [\"#KaranJohar's #KoffeeWithKaran not to return on tv\"],\n",
       " ['Mera sixth #karanjohar sense kehh raha hai..... Hindu rastra banne wala hai ab '],\n",
       " ['#carryminati #DigitalAirStrike #tiktokbanindia #TikTok #Paytm #shein #tiktokbanned banned to #KaranJohar also '],\n",
       " ['WTF did I just watch? My God #KaranJohar why do you even exist? #bollywoodnepotism #worstdance #BoycottBollywoodNepotism #SushantSingRajput #justiceforSushanthSinghRajput'],\n",
       " ['ये जिहादी साला इंडस्ट्री को अपने बाप की बपौती समझता है क्या हरामि का बहिष्कार करो #JusticeForSushant #BoycottBollywoodNepotism #boycottbollywood #KaranJohar #सलमानखांन #CBIEnquiryForSSR #CBIforShushantMumbaiPoliceHaayHaay'],\n",
       " ['@ReallySwara - you can try back #KaranJohar as much you want - we know you’re doing it to be part of the #KaranJoharGang but you’ll never get there. You aren’t a star kid to get up there with them. Remember that. You’re turning public against you! Those who REALLY make you big!'],\n",
       " ['#SushanthSinghRajput: #BoycottBollywoodNepotism #KaranJohar, #YashRajFilms, #SalmanKhan - Sign the #Petition! #boycottsalmankhan #BoycottKhans #KaranJoharIsBULLY #SalmanKhanIsBULLY http://chng.it/62gy4DV4 via @ChangeOrg_India'],\n",
       " ['Sab log #Nepotism ki baat kr rahe ho, socho to approx. pura bharat #nepotism se hi job pata hai. Yaar Jack lagwa do job mil jayega..n fingering out others like #karanjohar. Ghar ka business hai to tum pehle gharwalo ko business me laoge ya baharwalo ko... #SalmanKhan #karanjohar'],\n",
       " ['Boycott #KaranJohar #karanjohargang #SalmanKhan #ShahidKapoor #aliyabhatt #SonamKapoor #ShahRukhKhan #EktaKapoor for justice of #shushantsingrajput'],\n",
       " [' #boycottbigboss #BigBoss yaaaaaa coffee with karan ka suicide ab big boss ki baari #karanjohar #SalmanKhan #ArrestMurdererOfSushant #boycottstarkids'],\n",
       " ['#Nepotism #karanjohar #isupportkaranjohar according to my age and my thinking capacity..... purane time me raja ka beta hi raja hota tha . Or agar kisi ko rajya ki lalsa hoti to use apni yogyata sabit karni padti thi. Aap khud sochiye. Sb normal h pr aap hi welle hai '],\n",
       " ['The future is now. Get ready for #GalaxyZFold2 – the phone that is designed to change the shape of the future. Which feature are you most excited about? Register now: https://bit.ly/2YQHu2b #Samsung'],\n",
       " ['@itsSSR jis kisi ne maara h sushant singh ko un sabki bhen ka chut karlo jo karna h mein pehle sallu ka fan tha or srk ka bhi but enme se kabhi kisi ka bhi naam aya na toh bhot bura hoga randi rona maccha dunga #karanjohar #SSRMurderCase #aajtak love you #CBIEnquiryForSSR love u'],\n",
       " ['Karan Johar right now #kangana #karanjohar #SwaraBhasker https://twitter.com/KanganaTeam/status/1277665545731506177'],\n",
       " ['Over the ongoing nepotism debate, it seems many people have unfollowed the filmmaker on social media. Take a look! #CBIEnquiryForSushant #JusticeforSSR #JusticeForSushant #justiceforSushanthforum #Bollywood | #AliaBhatt | #KaranJohar | #Nepotism'],\n",
       " [\"Thank you #TikTok for entertaining us. U give lots of talented and skills actor's to us. I hope #KaranJohar will take forward them to film industry. #tiktokbaninindia\"],\n",
       " ['We support you @RandeepHooda @VidyutJammwal #BoycottBollywoodNepotism #BoycottKaranJoharGang #BoycottSalmanKhan #BoycottYRF #YashRajFilms #KaranJohar #AliaBhatt #BoycottSadak2 #Sadak2 #VarunDhawan #BoycottKaranJohar #CBIEnquiryForSSR #cbiforsushant #AmitShahDoJusticeForSushant'],\n",
       " ['Next - \"Karan Johar Banned\" #TikTok #karanjohar #karanjohargang'],\n",
       " [\"We know that you are big liar your film is not promote in bihar. I swear i'm boycott you and i suggest my friends, colleagues and relatives boycott you and #karanjohar, #aliyabhatt\"],\n",
       " ['Why Coffee in “Koffee with Karan” is spelt like that? Alia may not understand that, “c” in coffee sounds like “k” in Karan.She will pronounce it with full confidence “Soffee with Karan” ”@aliaa08 @karanjohar @KaranJoharTeam @itsSSR #SushantSinghRajput #AliaBhatt #karanjohar'],\n",
       " ['#KanganaRanaut ANGRY On Bollywood MAFIA | #SalmanKhan |#KaranJohar | #So... https://youtu.be/Wpz7RCrXZyw via'],\n",
       " [\"None of the main stream media has covered this yet. If this is just another baseless gossip, it's a really bad one. But if this is true, then are things a changing for good? #KoffeeWithKaran #KaranJohar #SushanthSinghRajput\"],\n",
       " ['Kya sir aap bhi.. gareeb ka mazak udate ho.. agar tik tokers loreal afford kar paate to tik tok p kyu rehte... Jhalak Dikh Laja mei naachte.. #karanjohar k saath'],\n",
       " ['Over the ongoing nepotism debate, it seems many people have unfollowed the filmmaker on social media. Take a look! #Bollywood | #AliaBhatt | #KaranJohar | #Nepotism https://www.spotboye.com/bollywood/news/13-days-since-sushant-singh-rajput-s-death-karan-johar-has-lost-half-a-million-followers-effect-of-nepotism-debate/5ef707ee63a45629e5b6baaa'],\n",
       " ['https://m.youtube.com/watch?v=--F3WwVgHFg Bhadwaaa Bollywood &amp; Nepotism : Roast By Sunny Rabade - Karan Johar | Salman Khan | Sushant Singh Rajput #Bollywood #Nepotism #SushantSinghRajput #SalmanKhan #KaranJohar #BoycottBollywood #KanganaRanaut #BoycottSalmanKhan #BoycottKaranJohar #Aliabhat'],\n",
       " ['#CBIEnquiryForSushant #ArrestMurdererOfSushant #SushantInOurHeartsForever #SushantNoMore #cbiforshushant #SSRMurderCase #SSR We miss you sushant so much.. #KaranJohar @BeingSalmanKhan @karanjohar @DharmaMovies @MumbaiPolice'],\n",
       " ['Swara Bhasker backs Karan Johar on nepotism row; Acknowledges him for not removing the comments from his show - https://www.pinkvilla.com/entertainment/news/swara-bhasker-backs-karan-johar-nepotism-row-acknowledges-him-not-removing-comments-his-show-545465 #SwaraBhasker #KaranJohar'],\n",
       " ['https://m.youtube.com/watch?v=--F3WwVgHFg #Bollywood #Nepotism #SushantSinghRajput #SalmanKhan #KaranJohar #BoycottBollywood #KanganaRanaut #BoycottSalmanKhan #BoycottKaranJohar #AlaiBhatt #SonamKapoor #BollywoodGang #BollywoodMafia #KaranJoharGang #JusticeForSushantSinghRajput #JusticeForSSR'],\n",
       " [\"#SuperExclusive #KaranJohar's #KoffeeWithKaran not to return on TV!! @GossipsTv\"],\n",
       " ['#karanjohar meri bagal waali gali mein star kid paida hua hai. Subah aa jaana picture sign karwaane, kahin koi aur na sign karle! #NepotismEndsin2020 https://www.youtube.com/watch?v=tX6KU5W6JL4'],\n",
       " ['#KaranJohar '],\n",
       " ['https://cinetalkwithsabbir.blogspot.com/2020/05/blog-post_15.html #MyNameIsKhan #ShahRukhKhan #Kajol #KaranJohar #MovieReviewinBangla #NiamulIslamSabbir'],\n",
       " ['Put your endless scrolling to an end! Watch top rated movies in your language using the yellow button on your remote and enjoy your favorite movies and shows trending on TV. #TrendingOnTV #YellowButton #Movies #TataSky #TataSkyFeature #SearchNahiTrendKaro #TrendingMovies'],\n",
       " [\"#TikTok now do mujra with 58 others. And don't forget indian mujra queen #KaranJohar \"],\n",
       " [\"#AliaBhatt #KaranJohar #BollywoodKiHomeDelivery wasn't this 2weeks enough for you? Now you're raising the bar and people won't stop. #karanJohar offered movies to Tiger but not Vidyut. But we all know Tiger &lt; Vidyut. And that's all that matters @VidyutJammwal #Nepotism\"],\n",
       " [\"So from #KatrinaKaif this shit #KaranJohar gave DearZindagi to this nepo kid #AliaBhatt ...Just hate her ...she steals people's work #KaranJoharIsBULLY #karanjohargang\"],\n",
       " ['We Can relate this with #KaranJohar '],\n",
       " ['When i look #karanjohar nd #MaheshBhatt #cbiforsushant'],\n",
       " [\"#VidyutJammwal call himself biggest action star, #Akshaykumar got offended. Now Vidyut didn't invited for announcement because of Akshay Akshay is the biggest cancer to the Bollywood. He's more dangerous than #KaranJohar n don't forget he's the biggest member of #karanjohargang\"],\n",
       " [\"#VidyutJammwal call himself biggest action star, #Akshaykumar got offended. Now Vidyut didn't invited for announcement because of Akshay Akshay is the biggest cancer to the Bollywood. He's more dangerous than #KaranJohar n don't forget he's the biggest member of #karanjohargang\"],\n",
       " ['Always remember.. PURUSH BALI NAI HOT HAI, SAMAY HOT BALWAN, SADDEGA TU.... God will punish you and your gang. Sadd ke jayega tu... #salmankhan #Karanjohar #justiceforsushantsinghrajput'],\n",
       " ['Dear Kangana Ranaut, U r the torch bearer of self-propaganda. #boycottKangana #teamkanganaranaut #teamKanga #KaranJohar #bollywoodnepotism #BollywoodBreaking2020 #bollywoodnews #BollywoodHungama #BollywoodCelebs #bollywoodupdate #bollywoodhot'],\n",
       " ['#meme #KaranJohar #SalmanKhan #Nepotism'],\n",
       " ['Why not Radhe by salman khan, why not sooriyabanshi by Dharma production.. Why not Thakht.??logo ko kitna ullu banaoge? 4month se lockdown. Dil bechara k baad hi ye sab natak Plz explain #DharmaProductions #SalmanKhan #moheshbhat #KaranJohar #BeingHumanSalmanKhan'],\n",
       " ['salman ka chamcha aa gya #boycottsalmankhan #BoycottKaranJoharGang #NepotismEndsin2020 #depression #SushantSingRajput #cbiforsushant #KaranJohar'],\n",
       " ['Look how #shamelessly she flaunting how she grab ( #twotimes )the role, which means she cut others #chance . thts how #nepotisminbollywood works. How #shahrukh and #karanjohar do #lobbying for #starkids #Nepotism #AmitShahDoJusticeForSSR @ZeeNews @KanganaTeam @RanvirShorey'],\n",
       " ['#fun #Entertainment #KaranJohar #Kangana #Kangana_ranaut #KanganaRanawat #SushantSingRajput #SushanthSinghRajput #SushanthSinghRajput #JusticeForSushantSinghRajput #WeStandForSushant #BollywoodBlockedSushant #bollywoodnepotism #Bollywood'],\n",
       " ['#aliaabhatt #MaheshBhatt #karanjohar ..ek movie dekhunga Inn logo ki ab..#boycott sadak2'],\n",
       " ['we want to justice for #SushantSingRajput .i think .#KaranJohar and #SalmanKhan salman khan.. both are gay... '],\n",
       " ['अपग्रेडेड वर्जन (2.0) #शरारत #karanjohar '],\n",
       " ['MEME SAMACHAAR EP 3 IS OUT ON YOUTUBE. https://youtu.be/Mf2iY_tPc2I @karanjohar @KaranJoharTeam #memesdaily #KaranJohar #Bollywood #funnymeme'],\n",
       " ['#karanjohar @karanjohar'],\n",
       " ['#JusticeForSushantSinghRajput #CBIEnquiryForShushant #KaranJohar '],\n",
       " ['Have you shared your #ArtOfMotorcycling yet? Don’t worry, you can still share it till 10th September. The prize? A chance to have your art featured on official #RoyalEnfield merchandise or even win an internship with their design team. Visit https://bit.ly/3lzVFmc #REApparel'],\n",
       " ['https://youtu.be/GCKRL0w2Ae0 PLZ friends do watch and watch this video how is #sushantsingajput #instalt. it really happened #NepotismBollywood so much. #karanjohar is #hijra and #kinnar is #ShahRukhKhan'],\n",
       " ['https://youtu.be/46zifmMPpGg To jao video upload ho gayi dekho #NepotismEndsin2020 #nepotisminbollywood #Nepotism #bollywoodnepotism #BollywoodMAFIA #Rexbhai #karanjohar '],\n",
       " ['Haa sir mai salman khan aur is hijde #Karanjohar ki koi movie nahi dekhta.'],\n",
       " ['#salmaankhan #Bollywood #SonamKapoor #adityathackeray #UddhavThackeray #KaranJohar #MumbaiPolice #Mumbai #Delhi #DelhiRiots2020 @CMOMaharashtra @CMODelhi'],\n",
       " ['Dear #AjayDevgn , #AkshayKumar , #RanveerSingh , #RohitShetty ,#KaranJohar #RelainceEntertainment &amp; #TSeries Please Release #Sooryavanshi Songs On #YouTube #TSeries Channel @ajaydevgn @akshaykumar @RanveerOfficial @RSPicturez @karanjohar @DharmaMovies @RelianceEnt'],\n",
       " ['#karanjohargang #karanjohar #napotism of #Bollywood @MumbaiMirror @RajThackeray #SushantSingRajput was planned murder by #Bollywood napotism mafia Karan johar one of criminal #Bihar #bihari #mumbai safe heaven for idiot like #karanjohargang'],\n",
       " [\"Here's How Karan Johar Responded When Swara Bhasker Questioned Him on Nepotism https://in.style.yahoo.com/heres-karan-johar-responded-swara-101524004.html?ncid=twitter_yahootwitt_ut531dfawco #KaranJohar #SwaraBhasker #nepotisminbollywood #NepotismEndsin2020\"],\n",
       " ['Sung by me #MaanaKeHumYaarNahin #AyushmannKhurrana #ParineetiChopra #ArijitSingh #LaxmmiBomb #BhujThePrideOfIndia #AkshayKumar #AjayDevgn #BoycottNetflix #DisneyPlusHotstar #Sadak2 #AliaBhatt #KaranJohar '],\n",
       " ['@aliaa08 will be watching #LaxmmiBomb #BhujThePrideOfIndia #DilBecharaOnBigScreen and other movies but not of #AliaBhatt #KaranJohar #SonamKapoor @karanjohar #KareenaKapoorKhan #ArjunKapoor and the rest'],\n",
       " ['#AmitShahDoJusticeForSSR #cbiforsushant #SushantSinghRajput @AmitShah @HMOIndia #BoycottBollywoodNepotism #BoycottKaranJoharGang BOYCOTT #AliaBhatt #VarunDhawan #SalmanKhan #TSeries #YashRajFilms #Sadak2 #BoycottSadak2 #karanjohar '],\n",
       " ['#WeWantJusticeForSushantSinghRajput #cbiforsushant we want justice for SSR &amp; want to boycott #SalmanKhan #bhattproduction #karanjohar #AliaBhatt otherwise we boycott our votes @AmitShah @narendramodi @PMOIndia #CBIEnquiryForSushantSinghRajput #justiceforSushanthSinghRajput'],\n",
       " ['#AmitShahDoJusticeForSSR #cbiforsushant #SushantSinghRajput @AmitShah @HMOIndia #BoycottBollywoodNepotism #BoycottKaranJoharGang BOYCOTT #AliaBhatt #VarunDhawan #SalmanKhan #TSeries #YashRajFilms #Sadak2 #BoycottSadak2 #karanjohar'],\n",
       " ['#AmitShahDoJusticeForSSR #cbiforsushant #SushantSinghRajput @AmitShah @HMOIndia #BoycottBollywoodNepotism #BoycottKaranJoharGang BOYCOTT #AliaBhatt #VarunDhawan #SalmanKhan #TSeries #YashRajFilms #Sadak2 #BoycottSadak2 #karanjohar'],\n",
       " ['Have you shared your #ArtOfMotorcycling yet? Don’t worry, you can still share it till 10th September. The prize? A chance to have your art featured on official #RoyalEnfield merchandise or even win an internship with their design team. Visit https://bit.ly/3lzVFmc #REApparel'],\n",
       " ['#AmitShahDoJusticeForSSR #cbiforsushant #SushantSinghRajput @AmitShah @HMOIndia #BoycottBollywoodNepotism #BoycottKaranJoharGang BOYCOTT #AliaBhatt #VarunDhawan #SalmanKhan #TSeries #YashRajFilms #Sadak2 #BoycottSadak2 #karanjohar'],\n",
       " ['#AmitShahDoJusticeForSSR #cbiforsushant #SushantSinghRajput @AmitShah @HMOIndia #BoycottBollywoodNepotism #BoycottKaranJoharGang BOYCOTT #AliaBhatt #VarunDhawan #SalmanKhan #TSeries #YashRajFilms #Sadak2 #BoycottSadak2 #karanjohar '],\n",
       " ['#k3g #karanjohar #tvdindia #ninadobrev #Stupidity'],\n",
       " ['Why voice not raised frm any of these celebrities ४CBI investigation of #sushant case who always sho their social work &amp;view:#AliaBhatt,#anilkapor #salmankhan,#Karanjohar,#shtrudhansingha,#MaheshBhatt,#KapilSharma,#Biharibabu,#Amithabbhachan,#AnupamKher,#EktaKapoor..surprising'],\n",
       " ['Karan Johar’s show Koffee with Karan to go off air? https://www.entertainmentbeats.com/post/karan-johar-s-show-koffee-with-karan-to-go-off-air #Music #News #MovieReview #Entertainment #Entertainmentbeats #Bollywood #Hollywood #Bollywoodnews #Hollywoodnews #Lyricstranslation #Serialnews #KaranJohar #KoffeeWithKaran'],\n",
       " ['https://youtu.be/M4IFztDcf68 #SalmanKhan #SushantSingRajput #KaranJohar #boycottbollywood #BoycottBollywoodNepotism #BoycottKaranJoharGang #BoycottKaranJoharGang #BoycottNetflix #BoycottAirAsiaIndia #BoycottAirAsiaIndia #BoycottTwitter #BoycottChineseProduct'],\n",
       " ['I have written to at least 20 India based journalist to investigate and do an exposé on #karanjohar whom I know is the #HarveyWeinstein of #Bollywood with men as his muses. Promoting &amp; Destroying them. But no takers. #SushantSingRajput'],\n",
       " ['Be_aware! #karanjohar #bollywood #nepotism #nepo #aliabhatt #varundhawan #kareenakapoor #kareenakapoorkhan #kanganaranaut #bollywoodactress #mumbai #nepokids #boycott #memes #meme #bollywoodnepotism #BollywoodBlockedSushant #Suhanakhan #shanayakapoor #ananyapanday #SalmanKhan'],\n",
       " ['I have written to at least 20 India based journalist to investigate and do an exposé on #karanjohar whom I know is the #HarveyWeinstein of Bollywood with men as his muses. Promoting &amp; Destroying them as he pleases. But no takers.'],\n",
       " ['#bollywood #nepotisminbollywood #nepotismbollywood #nepotism #kanganaranaut #karanjohar #aliabhatt #starkids #boycottbollywoodnepotism #kareenakapoor #varundhawan #ananyapandey #suhanakhan #shanayakapoor #sonamkapoor #bollywoodnepotism'],\n",
       " ['#karanjohar ka koi bhi movie nahi aana chahiye...'],\n",
       " ['#BollywoodKiHomeDelivery suits for #Nepotism poster boy #karanjohar. See. #JusticeForSushant #CBIEnquiryForSSRdeath #NepotismKiHomeDelivery'],\n",
       " ['#karanjohar '],\n",
       " ['#SushantSinghRajput..Strong legislation is called fr to regulate how #Bollywood operates in its crannies..objective shud be 2 help thos who report d kind of treatment Sushant got from d evil ones among big names. #SalmanKhan #KaranJohar #Pancholi.'],\n",
       " ['#KaranJohar’s Controversial Talk Show #KoffeeWithKaran To Go Off Air? @karanjohar'],\n",
       " ['#KaranJohar looking to gossip and bring down outsiders who are successful #BoycottKaranJohar #BoycottBollywoodNepotism #boycottbollywood #YashRajFilms #Tseries #AliaBhatt #SalmanKhan #BoycottSadak2 #Sadak2'],\n",
       " ['বলিউডে কি সত্যি লুকিয়ে অরাজকতা এবং দুর্নীতি, একে একে পর্দা ফাঁস কি হবে #SidharthMalhotra #KaranJohar #Bollywood #SaahilChoudhary'],\n",
       " ['I truly wonder what did #KaranJohar ask: Budget 2017 - Hot or Not? Energy, Defence, Health - who do you Fuck-Marry-Kill? If you wake up as a Accountant, what will you do?'],\n",
       " ['#NepotismBollywood #Nepotism #nepotisminbollywood #KanganaRanaut #KaranJohar #SalmanKhan #SonamKapoor #KaranJoharIsBULLY #karanjohargang'],\n",
       " ['Have you shared your #ArtOfMotorcycling yet? Don’t worry, you can still share it till 10th September. The prize? A chance to have your art featured on official #RoyalEnfield merchandise or even win an internship with their design team. Visit https://bit.ly/3lzVFmc #REApparel'],\n",
       " ['I am no more an #AkshayKumar fan! He is a Good actor but as a Human, He is one of the most Spineless person on this earth. Being an outsider he still cant stand by hardworking outsiders who are facing injustice in #Bollywood industry. But he supports ppl like #KaranJohar !']]"
      ]
     },
     "execution_count": 4,
     "metadata": {},
     "output_type": "execute_result"
    }
   ],
   "source": [
    "# Print texts\n",
    "text_tweets"
   ]
  },
  {
   "cell_type": "code",
   "execution_count": 5,
   "metadata": {},
   "outputs": [],
   "source": [
    "stop_words = [\"i\", \"me\", \"my\", \"myself\", \"we\", \"our\", \"ours\", \"ourselves\", \"you\", \"your\", \"yours\", \"yourself\",\n",
    "              \"yourselves\", \"he\", \"him\", \"his\", \"himself\", \"she\", \"her\", \"hers\", \"herself\", \"it\", \"its\", \"itself\",\n",
    "              \"they\", \"them\", \"their\", \"theirs\", \"themselves\", \"what\", \"which\", \"who\", \"whom\", \"this\", \"that\", \"these\",\n",
    "              \"those\", \"am\", \"is\", \"are\", \"was\", \"were\", \"be\", \"been\", \"being\", \"have\", \"has\", \"had\", \"having\", \"do\",\n",
    "              \"does\", \"did\", \"doing\", \"a\", \"an\", \"the\", \"and\", \"but\", \"if\", \"or\", \"because\", \"as\", \"until\", \"while\",\n",
    "              \"of\", \"at\", \"by\", \"for\", \"with\", \"about\", \"against\", \"between\", \"into\", \"through\", \"during\", \"before\",\n",
    "              \"after\", \"above\", \"below\", \"to\", \"from\", \"up\", \"down\", \"in\", \"out\", \"on\", \"off\", \"over\", \"under\", \"again\",\n",
    "              \"further\", \"then\", \"once\", \"here\", \"there\", \"when\", \"where\", \"why\", \"how\", \"all\", \"any\", \"both\", \"each\",\n",
    "              \"few\", \"more\", \"most\", \"other\", \"some\", \"such\", \"no\", \"nor\", \"not\", \"only\", \"own\", \"same\", \"so\", \"than\",\n",
    "              \"too\", \"very\", \"s\", \"t\", \"can\", \"will\", \"just\", \"don\", \"should\", \"now\"]\n",
    "\n",
    "# Removing stop words from the tokenized words list\n",
    "final_words = [word for word in tokenized_words if word not in stop_words]"
   ]
  },
  {
   "cell_type": "code",
   "execution_count": 6,
   "metadata": {},
   "outputs": [
    {
     "name": "stdout",
     "output_type": "stream",
     "text": [
      "Counter({' angry': 2, ' happy': 2, ' fearless': 1, ' singled out': 1, ' fearful': 1, ' adequate': 1})\n"
     ]
    }
   ],
   "source": [
    "# Get emotions text\n",
    "emotion_list = []\n",
    "with open('emotions.txt', 'r') as file:\n",
    "    for line in file:\n",
    "        clear_line = line.replace('\\n', '').replace(',', '').replace(\"'\", '').strip()\n",
    "        word, emotion = clear_line.split(':')\n",
    "        if word in final_words:\n",
    "            emotion_list.append(emotion)\n",
    "\n",
    "w = Counter(emotion_list)\n",
    "print(w)\n",
    "\n"
   ]
  },
  {
   "cell_type": "code",
   "execution_count": 7,
   "metadata": {},
   "outputs": [
    {
     "data": {
      "image/png": "[encoded data removed]",
      "text/plain": [
       "<Figure size 432x288 with 1 Axes>"
      ]
     },
     "metadata": {
      "needs_background": "light"
     },
     "output_type": "display_data"
    }
   ],
   "source": [
    "fig, ax1 = plt.subplots()\n",
    "ax1.bar(w.keys(), w.values())\n",
    "fig.autofmt_xdate()\n",
    "plt.savefig('graph.png')\n",
    "plt.show()"
   ]
  },
  {
   "cell_type": "code",
   "execution_count": 8,
   "metadata": {},
   "outputs": [
    {
     "data": {
      "image/png": "[encoded data removed]",
      "text/plain": [
       "<Figure size 432x288 with 1 Axes>"
      ]
     },
     "metadata": {
      "needs_background": "light"
     },
     "output_type": "display_data"
    }
   ],
   "source": [
    "fig, ax1 = plt.subplots()\n",
    "ax1.bar(w.keys(), w.values())\n",
    "fig.autofmt_xdate()\n",
    "plt.savefig('graph.png')\n",
    "plt.show()"
   ]
  }
 ],
 "metadata": {
  "kernelspec": {
   "display_name": "Python 3",
   "language": "python",
   "name": "python3"
  },
  "language_info": {
   "codemirror_mode": {
    "name": "ipython",
    "version": 3
   },
   "file_extension": ".py",
   "mimetype": "text/x-python",
   "name": "python",
   "nbconvert_exporter": "python",
   "pygments_lexer": "ipython3",
   "version": "3.7.7"
  }
 },
 "nbformat": 4,
 "nbformat_minor": 2
}
